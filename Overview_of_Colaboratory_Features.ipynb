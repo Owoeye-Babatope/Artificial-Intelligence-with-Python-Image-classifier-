{
  "cells": [
    {
      "cell_type": "markdown",
      "metadata": {
        "id": "view-in-github",
        "colab_type": "text"
      },
      "source": [
        "<a href=\"https://colab.research.google.com/github/Owoeye-Babatope/Artificial-Intelligence-with-Python-Image-classifier-/blob/master/Overview_of_Colaboratory_Features.ipynb\" target=\"_parent\"><img src=\"https://colab.research.google.com/assets/colab-badge.svg\" alt=\"Open In Colab\"/></a>"
      ]
    },
    {
      "cell_type": "markdown",
      "metadata": {
        "id": "JyG45Qk3qQLS"
      },
      "source": [
        "# COM 737\n",
        "A notebook is a list of cells. Cells contain either explanatory text or executable code and its output. Click a cell to select it."
      ]
    },
    {
      "cell_type": "code",
      "execution_count": 15,
      "metadata": {
        "cellView": "both",
        "id": "d-S-3nYLQSHb"
      },
      "outputs": [],
      "source": [
        "import numpy as np\n",
        "import pandas as pd\n",
        "import matplotlib.pyplot as plt\n",
        "import tensorflow as tf\n",
        "\n",
        "dataID = pd.read_csv('DATADIC(1).csv')\n",
        "Apoe = pd.read_csv(\"aibl_apoeres_01-Jun-2018.csv\")\n",
        "CDR = pd.read_csv(\"aibl_cdr_01-Jun-2018.csv\")\n",
        "Bloodtest = pd.read_csv(\"aibl_labdata_01-Jun-2018.csv\")\n",
        "Medical_History = pd.read_csv(\"aibl_medhist_01-Jun-2018.csv\")\n",
        "MMSE_Score = pd.read_csv(\"aibl_mmse_01-Jun-2018.csv\")\n",
        "LMR_Score = pd.read_csv(\"aibl_neurobat_01-Jun-2018.csv\")\n"
      ]
    },
    {
      "cell_type": "markdown",
      "source": [
        "# New Section"
      ],
      "metadata": {
        "id": "UBYBHLM_ZGx9"
      }
    },
    {
      "cell_type": "code",
      "source": [
        ""
      ],
      "metadata": {
        "id": "iRCPU7ttZmRG"
      },
      "execution_count": 15,
      "outputs": []
    }
  ],
  "metadata": {
    "colab": {
      "collapsed_sections": [],
      "name": "Overview of Colaboratory Features",
      "provenance": [],
      "include_colab_link": true
    },
    "kernelspec": {
      "display_name": "Python 3",
      "name": "python3"
    }
  },
  "nbformat": 4,
  "nbformat_minor": 0
}